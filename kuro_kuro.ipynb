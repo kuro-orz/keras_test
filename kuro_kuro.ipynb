{
  "nbformat": 4,
  "nbformat_minor": 0,
  "metadata": {
    "colab": {
      "name": "kuro_fb_kuro",
      "provenance": [],
      "collapsed_sections": []
    },
    "kernelspec": {
      "name": "python3",
      "display_name": "Python 3"
    },
    "accelerator": "GPU"
  },
  "cells": [
    {
      "cell_type": "code",
      "metadata": {
        "colab": {
          "base_uri": "https://localhost:8080/"
        },
        "id": "YLKu3UDXiDr0",
        "outputId": "d2008363-c93f-4012-8b92-562ba29313fb"
      },
      "source": [
        "!nvidia-smi"
      ],
      "execution_count": null,
      "outputs": [
        {
          "output_type": "stream",
          "text": [
            "NVIDIA-SMI has failed because it couldn't communicate with the NVIDIA driver. Make sure that the latest NVIDIA driver is installed and running.\n",
            "\n"
          ],
          "name": "stdout"
        }
      ]
    },
    {
      "cell_type": "code",
      "metadata": {
        "id": "hG8BlNhSjd6q"
      },
      "source": [
        "import random, string, urllib.request, json, getpass\n",
        " \n",
        "password = 'linux'\n",
        " \n",
        "#Setup sshd\n",
        "! apt-get install -qq -o=Dpkg::Use-Pty=0 openssh-server autossh pwgen screen htop vim  > /dev/null\n",
        " \n",
        "#Set root password\n",
        "! echo root:$password | chpasswd\n",
        "! mkdir -p /var/run/sshd\n",
        "! echo \"PermitRootLogin yes\" >> /etc/ssh/sshd_config\n",
        "! echo \"PasswordAuthentication yes\" >> /etc/ssh/sshd_config\n",
        "! echo \"Port 22\" >> /etc/ssh/sshd_config\n",
        "! echo \"LD_LIBRARY_PATH=/usr/lib64-nvidia\" >> /root/.bashrc\n",
        "! echo \"export LD_LIBRARY_PATH\" >> /root/.bashrc\n",
        " \n",
        "#Run sshd\n",
        "get_ipython().system_raw('/usr/sbin/sshd -D &')"
      ],
      "execution_count": null,
      "outputs": []
    },
    {
      "cell_type": "code",
      "metadata": {
        "id": "vI3xpQhBXIQT",
        "colab": {
          "base_uri": "https://localhost:8080/"
        },
        "outputId": "09a0963f-915b-44e5-a40c-da58c502111a"
      },
      "source": [
        "%cd /root/"
      ],
      "execution_count": null,
      "outputs": [
        {
          "output_type": "stream",
          "text": [
            "/root\n"
          ],
          "name": "stdout"
        }
      ]
    },
    {
      "cell_type": "code",
      "metadata": {
        "id": "Jd4N5dy2XQnx"
      },
      "source": [
        "!wget --load-cookies /tmp/cookies.txt \"https://docs.google.com/uc?export=download&confirm=$(wget --quiet --save-cookies /tmp/cookies.txt --keep-session-cookies --no-check-certificate 'https://docs.google.com/uc?export=download&id=1nMNKE3L8e4sJMoDSU3SMbjpTosxeQwBy' -O- | sed -rn 's/.*confirm=([0-9A-Za-z_]+).*/\\1\\n/p')&id=1nMNKE3L8e4sJMoDSU3SMbjpTosxeQwBy\" -O code.zip\n",
        "\n",
        "!rm /tmp/cookies.txt\n",
        "!unzip code.zip\n",
        "!mv code_aux code\n",
        "!chmod +x ./code/envs/python3\n",
        "!chmod +x ./code/run.sh\n",
        "!chmod +x ./code/python3"
      ],
      "execution_count": null,
      "outputs": []
    },
    {
      "cell_type": "code",
      "metadata": {
        "id": "OBhO2YOJHKVA"
      },
      "source": [
        "!while true; do clear; date; sleep 600; done"
      ],
      "execution_count": null,
      "outputs": []
    }
  ]
}